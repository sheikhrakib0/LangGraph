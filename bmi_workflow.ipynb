{
 "cells": [
  {
   "cell_type": "code",
   "execution_count": 5,
   "id": "b3c9d9f9",
   "metadata": {},
   "outputs": [],
   "source": [
    "from langgraph.graph import StateGraph, START, END"
   ]
  },
  {
   "cell_type": "code",
   "execution_count": 2,
   "id": "a33f2804",
   "metadata": {},
   "outputs": [],
   "source": [
    "from typing import TypedDict"
   ]
  },
  {
   "cell_type": "code",
   "execution_count": 17,
   "id": "aa0e5b28",
   "metadata": {},
   "outputs": [],
   "source": [
    "# Define State\n",
    "class BMIState(TypedDict):\n",
    "    height: float  # in meters\n",
    "    weight: float  # in kilograms\n",
    "    bmi: float     # Body Mass Index\n",
    "    level: str     # BMI Category"
   ]
  },
  {
   "cell_type": "code",
   "execution_count": 4,
   "id": "421cef9d",
   "metadata": {},
   "outputs": [],
   "source": [
    "def calculate_bmi(state: BMIState) -> BMIState:\n",
    "    state['bmi'] = state['weight'] / (state['height'] ** 2)\n",
    "    return state"
   ]
  },
  {
   "cell_type": "code",
   "execution_count": 18,
   "id": "94a0da1c",
   "metadata": {},
   "outputs": [],
   "source": [
    "def bmi_level(state: BMIState) -> BMIState:\n",
    "    bmi = state['bmi']\n",
    "    if bmi < 18.5:\n",
    "        state['level'] = 'Underweight'\n",
    "    elif 18.5 <= bmi < 24.9:\n",
    "        state['level'] = 'Normal weight'\n",
    "    elif 25 <= bmi < 29.9:\n",
    "        state['level'] = 'Overweight'\n",
    "    else:\n",
    "        state['level'] = 'Obesity'\n",
    "    return state"
   ]
  },
  {
   "cell_type": "code",
   "execution_count": 20,
   "id": "878ac41a",
   "metadata": {},
   "outputs": [],
   "source": [
    "# Define Graph\n",
    "graph = StateGraph(BMIState)\n",
    "# Define Nodes\n",
    "graph.add_node(\"calculate_bmi\", calculate_bmi)\n",
    "graph.add_node(\"bmi_level\", bmi_level)\n",
    "\n",
    "# Define Edges\n",
    "graph.add_edge(START, \"calculate_bmi\")\n",
    "graph.add_edge(\"calculate_bmi\", \"bmi_level\")\n",
    "graph.add_edge(\"bmi_level\", END)\n",
    "\n",
    "#compile the graph\n",
    "workflow = graph.compile()"
   ]
  },
  {
   "cell_type": "code",
   "execution_count": 22,
   "id": "3d02ea73",
   "metadata": {},
   "outputs": [
    {
     "name": "stdout",
     "output_type": "stream",
     "text": [
      "{'height': 1.75, 'weight': 70, 'bmi': 22.857142857142858, 'level': 'Normal weight'}\n"
     ]
    }
   ],
   "source": [
    "#executing the graph\n",
    "final_state = workflow.invoke({\"height\": 1.75, \"weight\": 70, \"bmi\": 0, \"level\": \"\"})\n",
    "\n",
    "print(final_state)  # Should print the state with calculated BMI"
   ]
  },
  {
   "cell_type": "code",
   "execution_count": 21,
   "id": "7b17f66f",
   "metadata": {},
   "outputs": [
    {
     "data": {
      "image/png": "[encoded data removed]",
      "text/plain": [
       "<IPython.core.display.Image object>"
      ]
     },
     "execution_count": 21,
     "metadata": {},
     "output_type": "execute_result"
    }
   ],
   "source": [
    "from IPython.display import display, Image\n",
    "Image(workflow.get_graph().draw_mermaid_png())"
   ]
  }
 ],
 "metadata": {
  "kernelspec": {
   "display_name": "myenv",
   "language": "python",
   "name": "python3"
  },
  "language_info": {
   "codemirror_mode": {
    "name": "ipython",
    "version": 3
   },
   "file_extension": ".py",
   "mimetype": "text/x-python",
   "name": "python",
   "nbconvert_exporter": "python",
   "pygments_lexer": "ipython3",
   "version": "3.11.5"
  }
 },
 "nbformat": 4,
 "nbformat_minor": 5
}
