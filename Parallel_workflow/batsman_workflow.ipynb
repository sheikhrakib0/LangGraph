{
 "cells": [
  {
   "cell_type": "code",
   "execution_count": 11,
   "id": "b3e665e3",
   "metadata": {},
   "outputs": [],
   "source": [
    "from langgraph.graph import StateGraph, START, END\n",
    "from typing import TypedDict, Optional"
   ]
  },
  {
   "cell_type": "code",
   "execution_count": 9,
   "id": "16b997b2",
   "metadata": {},
   "outputs": [],
   "source": [
    "# define the state structure\n",
    "class BatsmanState(TypedDict):\n",
    "    name: Optional[str]\n",
    "    runs: int\n",
    "    balls_faced: int\n",
    "    fours: int\n",
    "    sixes: int\n",
    "\n",
    "    strike_rate: float\n",
    "    bpb: float  # balls per boundary \n",
    "    boundary_percent: float\n",
    "    summary: Optional[str]"
   ]
  },
  {
   "cell_type": "code",
   "execution_count": 7,
   "id": "95dd0d6d",
   "metadata": {},
   "outputs": [],
   "source": [
    "def calculate_sr(state: BatsmanState) -> BatsmanState:\n",
    "    state['strike_rate'] = (state['runs'] / state['balls_faced']) * 100 if state['balls_faced'] > 0 else 0\n",
    "    return state"
   ]
  },
  {
   "cell_type": "code",
   "execution_count": 6,
   "id": "6d667a86",
   "metadata": {},
   "outputs": [],
   "source": [
    "# calculate balls per boundary\n",
    "def calculate_bpb(state: BatsmanState) -> BatsmanState:\n",
    "    total_boundaries = state[\"fours\"] + state[\"sixes\"]\n",
    "    state[\"bpb\"] = (state[\"balls_faced\"] / total_boundaries) if total_boundaries > 0 else float('inf')\n",
    "    return state"
   ]
  },
  {
   "cell_type": "code",
   "execution_count": 8,
   "id": "2eec9e6e",
   "metadata": {},
   "outputs": [],
   "source": [
    "# calcualte boundary percentage\n",
    "def calculate_boundary_percent(state: BatsmanState) -> BatsmanState:\n",
    "    total_boundaries = state[\"fours\"] + state[\"sixes\"]\n",
    "    state[\"boundary_percent\"] = (total_boundaries / state[\"balls_faced\"]) * 100 if state[\"balls_faced\"] > 0 else 0\n",
    "    return state"
   ]
  },
  {
   "cell_type": "code",
   "execution_count": 10,
   "id": "99e18b7e",
   "metadata": {},
   "outputs": [],
   "source": [
    "# calculate final output\n",
    "def final_output(state: BatsmanState) -> BatsmanState:\n",
    "    summary = f\"name: {state.get('name', 'Unknown')}, runs: {state['runs']}, balls faced: {state['balls_faced']}, strike rate: {state['strike_rate']:.2f}, bpb: {state['bpb']:.2f}, boundary %: {state['boundary_percent']:.2f}\"\n",
    "    state[\"summary\"] = summary\n",
    "    return state"
   ]
  },
  {
   "cell_type": "code",
   "execution_count": null,
   "id": "00c015e8",
   "metadata": {},
   "outputs": [],
   "source": [
    "# define graph\n",
    "graph = StateGraph(BatsmanState)\n",
    "\n",
    "# adding nodes\n",
    "graph.add_node(\"calculate_sr\", calculate_sr)\n",
    "graph.add_node(\"calculate_bpb\", calculate_bpb)\n",
    "graph.add_node(\"calculate_boundary_percent\", calculate_boundary_percent)\n",
    "graph.add_node(\"final_output\", final_output)\n",
    "\n",
    "# defining edges for parallel processing\n",
    "graph.add_edge(START, \"calculate_sr\")\n",
    "graph.add_edge(START, \"calculate_bpb\")\n",
    "graph.add_edge(START, \"calculate_boundary_percent\")\n",
    "\n",
    "graph.add_edge(\"calculate_sr\", \"final_output\")\n",
    "graph.add_edge(\"calculate_bpb\", \"final_output\")\n",
    "graph.add_edge(\"calculate_boundary_percent\", \"final_output\")\n",
    "\n",
    "graph.add_edge(\"final_output\", END)"
   ]
  }
 ],
 "metadata": {
  "kernelspec": {
   "display_name": "myenv",
   "language": "python",
   "name": "python3"
  },
  "language_info": {
   "codemirror_mode": {
    "name": "ipython",
    "version": 3
   },
   "file_extension": ".py",
   "mimetype": "text/x-python",
   "name": "python",
   "nbconvert_exporter": "python",
   "pygments_lexer": "ipython3",
   "version": "3.11.5"
  }
 },
 "nbformat": 4,
 "nbformat_minor": 5
}
