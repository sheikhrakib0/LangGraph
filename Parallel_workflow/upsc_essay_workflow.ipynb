{
 "cells": [
  {
   "cell_type": "code",
   "execution_count": 12,
   "id": "f794efb2",
   "metadata": {},
   "outputs": [],
   "source": [
    "from langgraph.graph import StateGraph, START, END\n",
    "from langchain_google_genai import ChatGoogleGenerativeAI\n",
    "from dotenv import load_dotenv\n",
    "from typing import TypedDict, Optional, List, Annotated\n",
    "from pydantic import BaseModel, Field\n",
    "import operator"
   ]
  },
  {
   "cell_type": "code",
   "execution_count": 2,
   "id": "084df113",
   "metadata": {},
   "outputs": [
    {
     "data": {
      "text/plain": [
       "True"
      ]
     },
     "execution_count": 2,
     "metadata": {},
     "output_type": "execute_result"
    }
   ],
   "source": [
    "load_dotenv()  # take environment variables from .env file"
   ]
  },
  {
   "cell_type": "code",
   "execution_count": 3,
   "id": "d0c8e4a3",
   "metadata": {},
   "outputs": [],
   "source": [
    "model = ChatGoogleGenerativeAI(model=\"gemini-2.5-flash\")"
   ]
  },
  {
   "cell_type": "code",
   "execution_count": 15,
   "id": "23ece69d",
   "metadata": {},
   "outputs": [],
   "source": [
    "class EvaluationSchema(BaseModel):\n",
    "    score: int = Field(description=\"Score between 1 and 10\")\n",
    "    feedback: str = Field(description=\"Detailed feedback on the essay\")"
   ]
  },
  {
   "cell_type": "code",
   "execution_count": 16,
   "id": "2fbd5e9e",
   "metadata": {},
   "outputs": [],
   "source": [
    "structured_model = model.with_structured_output(EvaluationSchema)"
   ]
  },
  {
   "cell_type": "code",
   "execution_count": 17,
   "id": "c9513b86",
   "metadata": {},
   "outputs": [],
   "source": [
    "essay_text = \"\"\"Technology has fundamentally transformed modern education, evolving from a supplementary tool to an essential core component of the learning environment. Its role is multifaceted, breaking down traditional barriers and creating dynamic, accessible, and personalized experiences for students.\n",
    "\n",
    "Classrooms are no longer confined to physical spaces. Digital platforms, interactive whiteboards, and educational software make lessons more engaging, catering to diverse learning styles. More importantly, the internet provides unprecedented access to a vast repository of global knowledge and resources, democratizing education for learners everywhere.\n",
    "\n",
    "Furthermore, technology enables personalized learning paths. Adaptive software can tailor lessons to a student’s individual pace and understanding, while data analytics help educators identify and address learning gaps promptly. From collaborative tools that connect students across the globe to immersive simulations that bring complex concepts to life, technology is not just changing how we teach, but enhancing how we learn, fostering a more inclusive and effective educational landscape for the 21st century.\"\"\""
   ]
  },
  {
   "cell_type": "code",
   "execution_count": 20,
   "id": "c649a1aa",
   "metadata": {},
   "outputs": [
    {
     "data": {
      "text/plain": [
       "8"
      ]
     },
     "execution_count": 20,
     "metadata": {},
     "output_type": "execute_result"
    }
   ],
   "source": [
    "prompt = f\"Evaluate the following UPSC essay on the topic 'Role of technology in modern education'. Provide a score between 1 and 10 and detailed feedback.\\n\\nEssay:\\n{essay_text}\"\n",
    "structured_model.invoke(prompt).score"
   ]
  },
  {
   "cell_type": "code",
   "execution_count": 13,
   "id": "8762617c",
   "metadata": {},
   "outputs": [],
   "source": [
    "# defining state\n",
    "class UPSCState(TypedDict):\n",
    "    essay: str\n",
    "    language_feedback: Optional[str]\n",
    "    analysis_feedback: Optional[str]\n",
    "    clarity_feedback: Optional[str]\n",
    "    overall_feedback: Optional[str]\n",
    "    individual_scores: Annotated[List[int], operator.add]  # to accumulate scores"
   ]
  },
  {
   "cell_type": "code",
   "execution_count": 21,
   "id": "f426b667",
   "metadata": {},
   "outputs": [],
   "source": [
    "# evaluate language function\n",
    "def evaluate_language(state: UPSCState):\n",
    "    \n",
    "    prompt = f\"Evaluate the language quality of the following essay. Provide a score between 1 and 10 and detailed feedback.\\n\\nEssay:\\n{state['essay']}\"\n",
    "    result = structured_model.invoke(prompt)\n",
    "    \n",
    "    return {\"language_feedback\": result.feedback, \"individual_scores\": [result.score]}"
   ]
  },
  {
   "cell_type": "code",
   "execution_count": 22,
   "id": "c1e028e7",
   "metadata": {},
   "outputs": [],
   "source": [
    "def evaluate_analysis(state: UPSCState):\n",
    "    \n",
    "    prompt = f\"Evaluate the analytical depth of the following essay. Provide a score between 1 and 10 and detailed feedback.\\n\\nEssay:\\n{state['essay']}\"\n",
    "    result = structured_model.invoke(prompt)\n",
    "    \n",
    "    return {\"analysis_feedback\": result.feedback, \"individual_scores\": [result.score]}"
   ]
  },
  {
   "cell_type": "code",
   "execution_count": 23,
   "id": "dda02657",
   "metadata": {},
   "outputs": [],
   "source": [
    "def evaluate_clarity(state: UPSCState):\n",
    "    \n",
    "    prompt = f\"Evaluate the clarity and coherence of the following essay. Provide a score between 1 and 10 and detailed feedback.\\n\\nEssay:\\n{state['essay']}\"\n",
    "    result = structured_model.invoke(prompt)\n",
    "    \n",
    "    return {\"clarity_feedback\": result.feedback, \"individual_scores\": [result.score]}"
   ]
  },
  {
   "cell_type": "code",
   "execution_count": 24,
   "id": "78c74adb",
   "metadata": {},
   "outputs": [],
   "source": [
    "def final_evaluation(state: UPSCState):\n",
    "\n",
    "    # summary feedback\n",
    "    prompt = f\"Based on the following feedbacks:\\nLanguage Feedback: {state['language_feedback']}\\nAnalysis Feedback: {state['analysis_feedback']}\\nClarity Feedback: {state['clarity_feedback']}\\nProvide an overall evaluation summary for the essay.\"\n",
    "    overall_feedback = model.invoke(prompt).content\n",
    "\n",
    "    # calculating average score\n",
    "    total_score = sum(state['individual_scores'])\n",
    "    average_score = total_score / len(state['individual_scores'])\n",
    "    \n",
    "    return {\"overall_feedback\": overall_feedback, \"average_score\": average_score}"
   ]
  },
  {
   "cell_type": "code",
   "execution_count": 26,
   "id": "0857452c",
   "metadata": {},
   "outputs": [],
   "source": [
    "# defining graph\n",
    "graph = StateGraph(UPSCState)\n",
    "\n",
    "# adding nodes\n",
    "graph.add_node(\"evaluate_language\", evaluate_language)\n",
    "graph.add_node(\"evaluate_analysis\", evaluate_analysis)\n",
    "graph.add_node(\"evaluate_clarity\", evaluate_clarity)\n",
    "graph.add_node(\"final_evaluation\", final_evaluation)\n",
    "\n",
    "# defining edges\n",
    "graph.add_edge(START, \"evaluate_language\")\n",
    "graph.add_edge(START, \"evaluate_analysis\")\n",
    "graph.add_edge(START, \"evaluate_clarity\")\n",
    "\n",
    "graph.add_edge(\"evaluate_language\", \"final_evaluation\")\n",
    "graph.add_edge(\"evaluate_analysis\", \"final_evaluation\")\n",
    "graph.add_edge(\"evaluate_clarity\", \"final_evaluation\")\n",
    "\n",
    "graph.add_edge(\"final_evaluation\", END)\n",
    "\n",
    "# compiling graph\n",
    "workflow = graph.compile()"
   ]
  },
  {
   "cell_type": "code",
   "execution_count": 28,
   "id": "0b436c34",
   "metadata": {},
   "outputs": [
    {
     "data": {
      "image/png": "[encoded data removed]",
      "text/plain": [
       "<langgraph.graph.state.CompiledStateGraph object at 0x000002286F3CBA90>"
      ]
     },
     "execution_count": 28,
     "metadata": {},
     "output_type": "execute_result"
    }
   ],
   "source": [
    "workflow"
   ]
  },
  {
   "cell_type": "code",
   "execution_count": 29,
   "id": "8fdb9f68",
   "metadata": {},
   "outputs": [],
   "source": [
    "#initial state\n",
    "initial_state = {\n",
    "    \"essay\": essay_text,\n",
    "    \"language_feedback\": None,\n",
    "    \"analysis_feedback\": None,\n",
    "    \"clarity_feedback\": None,\n",
    "    \"overall_feedback\": None,\n",
    "    \"individual_scores\": []\n",
    "}"
   ]
  },
  {
   "cell_type": "code",
   "execution_count": 30,
   "id": "e82ca346",
   "metadata": {},
   "outputs": [
    {
     "data": {
      "text/plain": [
       "{'essay': 'Technology has fundamentally transformed modern education, evolving from a supplementary tool to an essential core component of the learning environment. Its role is multifaceted, breaking down traditional barriers and creating dynamic, accessible, and personalized experiences for students.\\n\\nClassrooms are no longer confined to physical spaces. Digital platforms, interactive whiteboards, and educational software make lessons more engaging, catering to diverse learning styles. More importantly, the internet provides unprecedented access to a vast repository of global knowledge and resources, democratizing education for learners everywhere.\\n\\nFurthermore, technology enables personalized learning paths. Adaptive software can tailor lessons to a student’s individual pace and understanding, while data analytics help educators identify and address learning gaps promptly. From collaborative tools that connect students across the globe to immersive simulations that bring complex concepts to life, technology is not just changing how we teach, but enhancing how we learn, fostering a more inclusive and effective educational landscape for the 21st century.',\n",
       " 'language_feedback': \"The essay demonstrates excellent language quality. The vocabulary is rich and precise, using terms like 'fundamentally transformed,' 'democratizing education,' and 'immersive simulations' effectively. Sentence structures are varied, contributing to a fluid and engaging reading experience. The arguments are presented with remarkable clarity and cohesion, flowing logically from one paragraph to the next. There are no grammatical errors or awkward phrasings, indicating a strong command of English. The introduction effectively sets the stage, and the conclusion provides a strong summary and forward-looking statement. Overall, a highly polished and professional piece of writing.\",\n",
       " 'analysis_feedback': \"The essay provides a clear and well-structured overview of how technology has transformed modern education, touching on accessibility, personalization, and engagement. It successfully identifies several key areas, such as digital platforms, adaptive software, and collaborative tools, offering concrete examples of their impact. To enhance its analytical depth, the essay could benefit from a more critical examination of the topic. While it effectively highlights the positive aspects, it largely omits potential challenges, limitations, or nuanced considerations. For instance, exploring issues like the digital divide, the need for effective teacher training, the potential for technological distractions, or the ethical implications of data analytics in education would add significant depth. Furthermore, a deeper exploration of the 'why' behind these transformations, beyond the immediate benefits, would strengthen the analysis. Considering counterarguments or different perspectives on technology's role in education would elevate the essay from a descriptive account to a more comprehensive and critically engaged piece. The current analysis is strong in describing the 'what' and 'how' but could be improved by delving into the 'why' and acknowledging the complexities and potential drawbacks.\",\n",
       " 'clarity_feedback': \"The essay is exceptionally clear and coherent. It presents a well-structured argument, beginning with a strong thesis statement and developing its points logically across paragraphs. The language is precise and engaging, effectively illustrating how technology has transformed education from a 'supplementary tool to an essential core component.' The examples provided, such as 'digital platforms, interactive whiteboards, and educational software,' along with 'adaptive software' and 'collaborative tools,' effectively support the claims. The essay maintains a consistent focus on the multifaceted role of technology, making it very easy to follow the progression of ideas. Overall, an excellent piece of writing that demonstrates a strong grasp of the topic and effective communication.\",\n",
       " 'overall_feedback': \"Overall, this essay is a highly polished and professionally written piece, demonstrating **exceptional command of English**. It excels in **language quality, clarity, and coherence**, utilizing rich and precise vocabulary, varied sentence structures, and impeccable grammar to create a fluid, engaging, and remarkably easy-to-follow reading experience. The essay is **exceptionally well-structured**, with a strong thesis, logical progression of ideas, and effective use of examples that clearly illustrate how technology has transformed education.\\n\\nWhile the essay provides a **clear and well-structured overview** of the *what* and *how* of technology's impact on modern education, its primary area for development lies in **enhancing its analytical depth and critical engagement**. It currently offers a largely positive and descriptive account, and would significantly benefit from a more critical examination of the topic. Incorporating potential challenges, limitations, nuanced considerations (e.g., digital divide, teacher training, distractions, ethical implications), and a deeper exploration of the 'why' behind these transformations would elevate the essay from a strong descriptive piece to a more comprehensive, critically engaged, and sophisticated analysis.\\n\\nIn summary, the essay is a masterclass in effective communication and linguistic prowess, but could be strengthened by incorporating a more critical, nuanced, and in-depth analytical lens to explore the full complexities of technology's role in education.\",\n",
       " 'individual_scores': [7, 9, 9]}"
      ]
     },
     "execution_count": 30,
     "metadata": {},
     "output_type": "execute_result"
    }
   ],
   "source": [
    "workflow.invoke(initial_state)"
   ]
  }
 ],
 "metadata": {
  "kernelspec": {
   "display_name": "myenv",
   "language": "python",
   "name": "python3"
  },
  "language_info": {
   "codemirror_mode": {
    "name": "ipython",
    "version": 3
   },
   "file_extension": ".py",
   "mimetype": "text/x-python",
   "name": "python",
   "nbconvert_exporter": "python",
   "pygments_lexer": "ipython3",
   "version": "3.11.5"
  }
 },
 "nbformat": 4,
 "nbformat_minor": 5
}
