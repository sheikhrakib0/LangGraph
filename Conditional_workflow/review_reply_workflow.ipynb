{
 "cells": [
  {
   "cell_type": "code",
   "execution_count": 4,
   "id": "b2b159e8",
   "metadata": {},
   "outputs": [],
   "source": [
    "from langchain_google_genai import ChatGoogleGenerativeAI"
   ]
  },
  {
   "cell_type": "code",
   "execution_count": 8,
   "id": "3b50582f",
   "metadata": {},
   "outputs": [],
   "source": [
    "from langgraph.graph import StateGraph, START, END\n",
    "from typing import TypedDict, Literal\n",
    "from dotenv import load_dotenv\n",
    "from pydantic import BaseModel, Field"
   ]
  },
  {
   "cell_type": "code",
   "execution_count": 3,
   "id": "38099210",
   "metadata": {},
   "outputs": [
    {
     "data": {
      "text/plain": [
       "True"
      ]
     },
     "execution_count": 3,
     "metadata": {},
     "output_type": "execute_result"
    }
   ],
   "source": [
    "load_dotenv()"
   ]
  },
  {
   "cell_type": "code",
   "execution_count": 9,
   "id": "85954e9f",
   "metadata": {},
   "outputs": [],
   "source": [
    "model = ChatGoogleGenerativeAI(model=\"gemini-2.5-flash\")"
   ]
  },
  {
   "cell_type": "code",
   "execution_count": 10,
   "id": "3fd67daf",
   "metadata": {},
   "outputs": [],
   "source": [
    "class SentimentSchema(BaseModel):\n",
    "    sentiment: Literal['positive', 'neutral', 'negative'] = Field(description=\"The sentiment of the review\")\n"
   ]
  },
  {
   "cell_type": "code",
   "execution_count": 12,
   "id": "9b5f104d",
   "metadata": {},
   "outputs": [],
   "source": [
    "structured_model = model.with_structured_output(SentimentSchema)"
   ]
  },
  {
   "cell_type": "code",
   "execution_count": 16,
   "id": "44168c1b",
   "metadata": {},
   "outputs": [
    {
     "data": {
      "text/plain": [
       "SentimentSchema(sentiment='positive')"
      ]
     },
     "execution_count": 16,
     "metadata": {},
     "output_type": "execute_result"
    }
   ],
   "source": [
    "prompt = \"What is the sentiment of the following review - The software is very good\"\n",
    "structured_model.invoke(prompt)"
   ]
  },
  {
   "cell_type": "code",
   "execution_count": 17,
   "id": "4d94b827",
   "metadata": {},
   "outputs": [],
   "source": [
    "# defining state\n",
    "class ReviewState(TypedDict):\n",
    "\n",
    "    review: str\n",
    "    sentiment: Literal['positive', 'neutral', 'negative']\n",
    "    diagnosis: dict\n",
    "    response: str\n",
    "    "
   ]
  },
  {
   "cell_type": "code",
   "execution_count": 26,
   "id": "c69dfeeb",
   "metadata": {},
   "outputs": [],
   "source": [
    "# defining sentiment function\n",
    "def find_sentiment(state: ReviewState):\n",
    "    \n",
    "    prompt = f\"Find the sentiment for the following sentiment - {state['review']}\"\n",
    "    sentiment = structured_model.invoke(prompt).sentiment\n",
    "    return {\"sentiment\": sentiment}"
   ]
  },
  {
   "cell_type": "code",
   "execution_count": 30,
   "id": "3bd298fa",
   "metadata": {},
   "outputs": [],
   "source": [
    "def sentiment_check(state: ReviewState) -> Literal['positive_review', 'neutral_review', 'negative_review']:\n",
    "    if state['sentiment'] == 'positive':\n",
    "        return 'positive_review'\n",
    "    elif state['sentiment'] == 'neutral':\n",
    "        return 'neutral_review'\n",
    "    else:\n",
    "        return 'negative_review'"
   ]
  },
  {
   "cell_type": "code",
   "execution_count": null,
   "id": "efbf08c2",
   "metadata": {},
   "outputs": [],
   "source": [
    "graph = StateGraph(ReviewState)\n",
    "\n",
    "# adding nodes\n",
    "graph.add_node('find_sentiment', find_sentiment)\n",
    "graph.add_node('find_sentiment', 'sentiment_check')\n",
    "\n",
    "\n",
    "\n",
    "# adding edges\n",
    "graph.add_edge(START, \"find_sentiment\")\n",
    "graph.add_edge(\"find_sentiment\", END)\n",
    "\n",
    "# compiling the graph\n",
    "workflow = graph.compile()"
   ]
  },
  {
   "cell_type": "code",
   "execution_count": 28,
   "id": "c2905ab3",
   "metadata": {},
   "outputs": [
    {
     "data": {
      "image/png": "[encoded data removed]",
      "text/plain": [
       "<langgraph.graph.state.CompiledStateGraph object at 0x00000273178D9BD0>"
      ]
     },
     "execution_count": 28,
     "metadata": {},
     "output_type": "execute_result"
    }
   ],
   "source": [
    "workflow"
   ]
  },
  {
   "cell_type": "code",
   "execution_count": 23,
   "id": "49624032",
   "metadata": {},
   "outputs": [],
   "source": [
    "# defining initial state\n",
    "initial_state: ReviewState = {\n",
    "    \"review\": \"The software is very good\",\n",
    "    \"sentiment\": \"\",\n",
    "    \"diagnosis\": {},\n",
    "    \"response\": \"\"\n",
    "}"
   ]
  },
  {
   "cell_type": "code",
   "execution_count": 29,
   "id": "3cb5e92f",
   "metadata": {},
   "outputs": [
    {
     "data": {
      "text/plain": [
       "{'review': 'The software is very good',\n",
       " 'sentiment': 'positive',\n",
       " 'diagnosis': {},\n",
       " 'response': ''}"
      ]
     },
     "execution_count": 29,
     "metadata": {},
     "output_type": "execute_result"
    }
   ],
   "source": [
    "workflow.invoke(initial_state)"
   ]
  }
 ],
 "metadata": {
  "kernelspec": {
   "display_name": "myenv",
   "language": "python",
   "name": "python3"
  },
  "language_info": {
   "codemirror_mode": {
    "name": "ipython",
    "version": 3
   },
   "file_extension": ".py",
   "mimetype": "text/x-python",
   "name": "python",
   "nbconvert_exporter": "python",
   "pygments_lexer": "ipython3",
   "version": "3.11.5"
  }
 },
 "nbformat": 4,
 "nbformat_minor": 5
}
