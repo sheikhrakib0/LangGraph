{
 "cells": [
  {
   "cell_type": "code",
   "execution_count": 2,
   "id": "a390c85b",
   "metadata": {},
   "outputs": [],
   "source": [
    "from langgraph.graph import StateGraph, START, END\n",
    "from typing import TypedDict, Literal"
   ]
  },
  {
   "cell_type": "code",
   "execution_count": 19,
   "id": "ac2a5af6",
   "metadata": {},
   "outputs": [],
   "source": [
    "# defining state for the graph\n",
    "class QuadState(TypedDict):\n",
    "    a: int\n",
    "    b: int\n",
    "    c: int\n",
    "\n",
    "    equation: str\n",
    "    discriminant: float\n",
    "    result: str"
   ]
  },
  {
   "cell_type": "code",
   "execution_count": 14,
   "id": "79f455e9",
   "metadata": {},
   "outputs": [],
   "source": [
    "# creating show equation function\n",
    "def show_equation(state: QuadState):\n",
    "    equation = f\"{state['a']}x^2 + {state['b']}x + {state['c']} = 0\"\n",
    "    return {\"equation\": equation}"
   ]
  },
  {
   "cell_type": "code",
   "execution_count": 15,
   "id": "9d808cb5",
   "metadata": {},
   "outputs": [],
   "source": [
    "# creating discriminant function\n",
    "def calculate_discriminant(state: QuadState):\n",
    "    a = state['a']\n",
    "    b = state['b']\n",
    "    c = state['c']\n",
    "    discriminant = b**2 - 4*a*c\n",
    "    \n",
    "    return {\"discriminant\": discriminant}"
   ]
  },
  {
   "cell_type": "code",
   "execution_count": null,
   "id": "488b691d",
   "metadata": {},
   "outputs": [],
   "source": [
    "# creating root type functions\n",
    "def real_roots(state: QuadState):\n",
    "    root1 = (-state['b'] + state['discriminant']**0.5) / (2*state['a'])\n",
    "    root2 = (-state['b'] - state['discriminant']**0.5) / (2*state['a'])\n",
    "    result = f\"Real roots: {root1} and {root2}\"\n",
    "    return {\"result\": result}\n",
    "\n",
    "def equal_roots(state: QuadState):\n",
    "    root = -state['b'] / (2*state['a'])\n",
    "    result = f\"Equal roots: {root}\"\n",
    "    return {\"result\": result}\n",
    "\n",
    "def complex_roots(state: QuadState):\n",
    "    result = \"No real roots exist.\"\n",
    "    return {\"result\": result}"
   ]
  },
  {
   "cell_type": "code",
   "execution_count": 21,
   "id": "3ae990db",
   "metadata": {},
   "outputs": [],
   "source": [
    "def check_condition(state: QuadState) -> Literal['real_roots', 'equal_roots', 'complex_roots']:\n",
    "    if state['discriminant'] > 0:\n",
    "        return 'real_roots'\n",
    "    elif state['discriminant'] == 0:\n",
    "        return 'equal_roots'\n",
    "    else:\n",
    "        return 'complex_roots'"
   ]
  },
  {
   "cell_type": "code",
   "execution_count": 22,
   "id": "c6931bac",
   "metadata": {},
   "outputs": [],
   "source": [
    "graph = StateGraph(QuadState)\n",
    "\n",
    "# adding nodes\n",
    "graph.add_node(\"show_equation\", show_equation)\n",
    "graph.add_node(\"calculate_discriminant\", calculate_discriminant)\n",
    "\n",
    "graph.add_node(\"real_roots\", real_roots)\n",
    "graph.add_node(\"equal_roots\", equal_roots)\n",
    "graph.add_node(\"complex_roots\", complex_roots)\n",
    "\n",
    "# adding edges \n",
    "graph.add_edge(START, \"show_equation\")\n",
    "graph.add_edge(\"show_equation\", \"calculate_discriminant\")\n",
    "\n",
    "graph.add_conditional_edges(\"calculate_discriminant\", check_condition)\n",
    "\n",
    "\n",
    "graph.add_edge(\"real_roots\", END)\n",
    "graph.add_edge(\"equal_roots\", END)\n",
    "graph.add_edge(\"complex_roots\", END)\n",
    "\n",
    "#compilinig the graph\n",
    "workflow = graph.compile()"
   ]
  },
  {
   "cell_type": "code",
   "execution_count": 23,
   "id": "38b5114e",
   "metadata": {},
   "outputs": [
    {
     "data": {
      "image/png": "[encoded data removed]",
      "text/plain": [
       "<langgraph.graph.state.CompiledStateGraph object at 0x0000015DFF7B1BD0>"
      ]
     },
     "execution_count": 23,
     "metadata": {},
     "output_type": "execute_result"
    }
   ],
   "source": [
    "workflow\n"
   ]
  },
  {
   "cell_type": "code",
   "execution_count": 24,
   "id": "7278f442",
   "metadata": {},
   "outputs": [],
   "source": [
    "# initial state\n",
    "initial_state: QuadState = {\n",
    "    \"a\": 1,\n",
    "    \"b\": -3,\n",
    "    \"c\": 2,\n",
    "    \"equation\": \"\",\n",
    "    \"discriminant\": 0.0,\n",
    "    \"result\":\"\"\n",
    "}"
   ]
  },
  {
   "cell_type": "code",
   "execution_count": 25,
   "id": "28ba35dd",
   "metadata": {},
   "outputs": [
    {
     "data": {
      "text/plain": [
       "{'a': 1,\n",
       " 'b': -3,\n",
       " 'c': 2,\n",
       " 'equation': '1x^2 + -3x + 2 = 0',\n",
       " 'discriminant': 1,\n",
       " 'result': 'Real roots: 2.0 and 1.0'}"
      ]
     },
     "execution_count": 25,
     "metadata": {},
     "output_type": "execute_result"
    }
   ],
   "source": [
    "workflow.invoke(initial_state)"
   ]
  },
  {
   "cell_type": "code",
   "execution_count": 1,
   "id": "8e87a495",
   "metadata": {},
   "outputs": [
    {
     "name": "stdout",
     "output_type": "stream",
     "text": [
      "Creating a state graph...\n"
     ]
    }
   ],
   "source": [
    "print(\"Creating a state graph...\")"
   ]
  }
 ],
 "metadata": {
  "kernelspec": {
   "display_name": "myenv",
   "language": "python",
   "name": "python3"
  },
  "language_info": {
   "codemirror_mode": {
    "name": "ipython",
    "version": 3
   },
   "file_extension": ".py",
   "mimetype": "text/x-python",
   "name": "python",
   "nbconvert_exporter": "python",
   "pygments_lexer": "ipython3",
   "version": "3.11.5"
  }
 },
 "nbformat": 4,
 "nbformat_minor": 5
}
