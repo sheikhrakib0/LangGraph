{
 "cells": [
  {
   "cell_type": "code",
   "execution_count": null,
   "id": "feaf1a0a",
   "metadata": {},
   "outputs": [],
   "source": [
    "from langchain_google_genai import ChatGoogleGenerativeAI\n",
    "from langgraph.graph import StateGraph, START, END\n",
    "from typing import Optional, TypedDict"
   ]
  },
  {
   "cell_type": "code",
   "execution_count": 5,
   "id": "2f1d998d",
   "metadata": {},
   "outputs": [
    {
     "data": {
      "text/plain": [
       "True"
      ]
     },
     "execution_count": 5,
     "metadata": {},
     "output_type": "execute_result"
    }
   ],
   "source": [
    "from dotenv import load_dotenv\n",
    "load_dotenv()"
   ]
  },
  {
   "cell_type": "code",
   "execution_count": 9,
   "id": "baf2c6f6",
   "metadata": {},
   "outputs": [],
   "source": [
    "model = ChatGoogleGenerativeAI(model=\"gemini-2.5-flash\")"
   ]
  },
  {
   "cell_type": "code",
   "execution_count": 10,
   "id": "02c12eea",
   "metadata": {},
   "outputs": [
    {
     "data": {
      "text/plain": [
       "AIMessage(content=\"Why did the programmer quit his job?\\n\\nBecause he didn't get arrays.\\n(A-raise!)\", additional_kwargs={}, response_metadata={'prompt_feedback': {'block_reason': 0, 'safety_ratings': []}, 'finish_reason': 'STOP', 'model_name': 'gemini-2.5-flash', 'safety_ratings': []}, id='run--49ed0502-fe9a-46f7-9544-b19c548ec9f3-0', usage_metadata={'input_tokens': 7, 'output_tokens': 1732, 'total_tokens': 1739, 'input_token_details': {'cache_read': 0}, 'output_token_details': {'reasoning': 1709}})"
      ]
     },
     "execution_count": 10,
     "metadata": {},
     "output_type": "execute_result"
    }
   ],
   "source": [
    "model.invoke(\"tell me a joke about computers\")"
   ]
  },
  {
   "cell_type": "code",
   "execution_count": 11,
   "id": "2bd4686e",
   "metadata": {},
   "outputs": [],
   "source": [
    "# creating a state\n",
    "class LLMState(TypedDict):\n",
    "    input: str\n",
    "    output: Optional[str]"
   ]
  },
  {
   "cell_type": "code",
   "execution_count": 12,
   "id": "1bba1f8f",
   "metadata": {},
   "outputs": [],
   "source": [
    "def llm_qa(state: LLMState) -> LLMState:\n",
    "    # question from the state\n",
    "    question = state[\"input\"]\n",
    "    # form a prompt\n",
    "    prompt = f\"Answer the following question: {question}\"\n",
    "    # get the answer from the model\n",
    "    answer = model.invoke(prompt)\n",
    "    # update the state with the answer\n",
    "    state[\"output\"] = answer\n",
    "    return state"
   ]
  },
  {
   "cell_type": "code",
   "execution_count": null,
   "id": "c56650f1",
   "metadata": {},
   "outputs": [],
   "source": [
    "# creating a state graph\n",
    "graph = StateGraph(LLMState)\n",
    "\n",
    "# adding nodes\n",
    "graph.add_node(\"llm_qa\", llm_qa)\n",
    "\n",
    "# adding edges\n",
    "graph.add_edge(START, \"llm_qa\")\n",
    "graph.add_edge(\"llm_qa\", END)\n",
    "\n",
    "# compiling the graph\n",
    "workflow = graph.compile()\n"
   ]
  },
  {
   "cell_type": "code",
   "execution_count": 15,
   "id": "a6b45ac9",
   "metadata": {},
   "outputs": [
    {
     "data": {
      "image/png": "[encoded data removed]",
      "text/plain": [
       "<IPython.core.display.Image object>"
      ]
     },
     "execution_count": 15,
     "metadata": {},
     "output_type": "execute_result"
    }
   ],
   "source": [
    "# showing the workflow \n",
    "from IPython.display import display, Image\n",
    "Image(workflow.get_graph().draw_mermaid_png())"
   ]
  },
  {
   "cell_type": "code",
   "execution_count": 17,
   "id": "1a2ab7e8",
   "metadata": {},
   "outputs": [],
   "source": [
    "# Executing the workflow\n",
    "initial_state: LLMState = {\"input\": \"What is the capital of France?\", \"output\": None}\n",
    "final_state = workflow.invoke(initial_state)"
   ]
  },
  {
   "cell_type": "code",
   "execution_count": 20,
   "id": "e835ab2b",
   "metadata": {},
   "outputs": [
    {
     "name": "stdout",
     "output_type": "stream",
     "text": [
      "The capital of France is **Paris**.\n"
     ]
    }
   ],
   "source": [
    "print(final_state[\"output\"].content)"
   ]
  }
 ],
 "metadata": {
  "kernelspec": {
   "display_name": "myenv",
   "language": "python",
   "name": "python3"
  },
  "language_info": {
   "codemirror_mode": {
    "name": "ipython",
    "version": 3
   },
   "file_extension": ".py",
   "mimetype": "text/x-python",
   "name": "python",
   "nbconvert_exporter": "python",
   "pygments_lexer": "ipython3",
   "version": "3.11.5"
  }
 },
 "nbformat": 4,
 "nbformat_minor": 5
}
